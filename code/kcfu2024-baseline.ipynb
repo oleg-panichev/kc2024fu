{
 "cells": [
  {
   "cell_type": "code",
   "execution_count": 1,
   "id": "2891cb56",
   "metadata": {
    "execution": {
     "iopub.execute_input": "2024-06-19T12:04:54.690062Z",
     "iopub.status.busy": "2024-06-19T12:04:54.689599Z",
     "iopub.status.idle": "2024-06-19T12:05:17.709870Z",
     "shell.execute_reply": "2024-06-19T12:05:17.707895Z"
    },
    "papermill": {
     "duration": 23.029761,
     "end_time": "2024-06-19T12:05:17.712884",
     "exception": false,
     "start_time": "2024-06-19T12:04:54.683123",
     "status": "completed"
    },
    "tags": []
   },
   "outputs": [
    {
     "name": "stdout",
     "output_type": "stream",
     "text": [
      "Requirement already satisfied: scikit-learn in /opt/conda/lib/python3.10/site-packages (1.2.2)\r\n",
      "Collecting scikit-learn\r\n",
      "  Downloading scikit_learn-1.5.0-cp310-cp310-manylinux_2_17_x86_64.manylinux2014_x86_64.whl.metadata (11 kB)\r\n",
      "Requirement already satisfied: numpy>=1.19.5 in /opt/conda/lib/python3.10/site-packages (from scikit-learn) (1.26.4)\r\n",
      "Requirement already satisfied: scipy>=1.6.0 in /opt/conda/lib/python3.10/site-packages (from scikit-learn) (1.11.4)\r\n",
      "Requirement already satisfied: joblib>=1.2.0 in /opt/conda/lib/python3.10/site-packages (from scikit-learn) (1.4.2)\r\n",
      "Requirement already satisfied: threadpoolctl>=3.1.0 in /opt/conda/lib/python3.10/site-packages (from scikit-learn) (3.2.0)\r\n",
      "Downloading scikit_learn-1.5.0-cp310-cp310-manylinux_2_17_x86_64.manylinux2014_x86_64.whl (13.3 MB)\r\n",
      "\u001b[2K   \u001b[90m━━━━━━━━━━━━━━━━━━━━━━━━━━━━━━━━━━━━━━━━\u001b[0m \u001b[32m13.3/13.3 MB\u001b[0m \u001b[31m57.2 MB/s\u001b[0m eta \u001b[36m0:00:00\u001b[0m\r\n",
      "\u001b[?25hInstalling collected packages: scikit-learn\r\n",
      "  Attempting uninstall: scikit-learn\r\n",
      "    Found existing installation: scikit-learn 1.2.2\r\n",
      "    Uninstalling scikit-learn-1.2.2:\r\n",
      "      Successfully uninstalled scikit-learn-1.2.2\r\n",
      "\u001b[31mERROR: pip's dependency resolver does not currently take into account all the packages that are installed. This behaviour is the source of the following dependency conflicts.\r\n",
      "spopt 0.6.0 requires shapely>=2.0.1, but you have shapely 1.8.5.post1 which is incompatible.\u001b[0m\u001b[31m\r\n",
      "\u001b[0mSuccessfully installed scikit-learn-1.5.0\r\n",
      "Note: you may need to restart the kernel to use updated packages.\n"
     ]
    }
   ],
   "source": [
    "%pip install -U scikit-learn"
   ]
  },
  {
   "cell_type": "code",
   "execution_count": 2,
   "id": "5a6ffb7f",
   "metadata": {
    "execution": {
     "iopub.execute_input": "2024-06-19T12:05:17.726846Z",
     "iopub.status.busy": "2024-06-19T12:05:17.726341Z",
     "iopub.status.idle": "2024-06-19T12:05:21.356456Z",
     "shell.execute_reply": "2024-06-19T12:05:21.355059Z"
    },
    "papermill": {
     "duration": 3.640424,
     "end_time": "2024-06-19T12:05:21.359482",
     "exception": false,
     "start_time": "2024-06-19T12:05:17.719058",
     "status": "completed"
    },
    "tags": []
   },
   "outputs": [],
   "source": [
    "import pandas as pd\n",
    "import numpy as np\n",
    "\n",
    "import lightgbm as lgb\n",
    "from lightgbm import LGBMRegressor\n",
    "\n",
    "from sklearn.preprocessing import LabelEncoder\n",
    "from sklearn.model_selection import KFold\n",
    "from sklearn.metrics import root_mean_squared_log_error"
   ]
  },
  {
   "cell_type": "code",
   "execution_count": 3,
   "id": "dbd87438",
   "metadata": {
    "execution": {
     "iopub.execute_input": "2024-06-19T12:05:21.373405Z",
     "iopub.status.busy": "2024-06-19T12:05:21.372668Z",
     "iopub.status.idle": "2024-06-19T12:05:23.625286Z",
     "shell.execute_reply": "2024-06-19T12:05:23.623838Z"
    },
    "papermill": {
     "duration": 2.263296,
     "end_time": "2024-06-19T12:05:23.628343",
     "exception": false,
     "start_time": "2024-06-19T12:05:21.365047",
     "status": "completed"
    },
    "tags": []
   },
   "outputs": [
    {
     "name": "stdout",
     "output_type": "stream",
     "text": [
      "train_df.shape: (378428, 13), test_df.shape: (252286, 12)\n"
     ]
    }
   ],
   "source": [
    "# Load the datasets\n",
    "training_data_path = '../input/ml-competition-2024-for-ukrainians/train.csv'\n",
    "test_data_path = '../input/ml-competition-2024-for-ukrainians/test.csv'\n",
    "\n",
    "train_df = pd.read_csv(training_data_path)\n",
    "test_df = pd.read_csv(test_data_path)\n",
    "\n",
    "print(f\"train_df.shape: {train_df.shape}, test_df.shape: {test_df.shape}\")"
   ]
  },
  {
   "cell_type": "code",
   "execution_count": 4,
   "id": "11a55c5e",
   "metadata": {
    "execution": {
     "iopub.execute_input": "2024-06-19T12:05:23.643308Z",
     "iopub.status.busy": "2024-06-19T12:05:23.642042Z",
     "iopub.status.idle": "2024-06-19T12:05:31.292432Z",
     "shell.execute_reply": "2024-06-19T12:05:31.291139Z"
    },
    "papermill": {
     "duration": 7.660907,
     "end_time": "2024-06-19T12:05:31.295388",
     "exception": false,
     "start_time": "2024-06-19T12:05:23.634481",
     "status": "completed"
    },
    "tags": []
   },
   "outputs": [
    {
     "name": "stdout",
     "output_type": "stream",
     "text": [
      "LE: Item_Identifier\n",
      "LE: Item_Fat_Content\n",
      "LE: Item_Type\n",
      "LE: Outlet_Identifier\n",
      "LE: Outlet_Size\n",
      "LE: Outlet_Location_Type\n",
      "LE: Outlet_Type\n",
      "(378428, 13) (252286, 12)\n"
     ]
    }
   ],
   "source": [
    "# Function to apply label encoding to columns that contain strings\n",
    "def label_encode(train_df, test_df):\n",
    "    label_encoders = {}\n",
    "    cat_cols = []\n",
    "    for column in train_df.columns:\n",
    "        if train_df[column].dtype == 'object' or train_df[column].dtype == 'category':\n",
    "            print(f\"LE: {column}\")\n",
    "            le = LabelEncoder()\n",
    "            # Fit on both training and test data to ensure consistency\n",
    "            le.fit(list(train_df[column].astype(str)) + list(test_df[column].astype(str)))\n",
    "            train_df[column] = le.transform(train_df[column].astype(str))\n",
    "            test_df[column] = le.transform(test_df[column].astype(str))\n",
    "            label_encoders[column] = le\n",
    "            cat_cols.append(column)\n",
    "    return train_df, test_df, label_encoders, cat_cols\n",
    "\n",
    "# Apply label encoding\n",
    "train_df, test_df, _, cat_cols = label_encode(train_df, test_df)\n",
    "print(train_df.shape, test_df.shape)"
   ]
  },
  {
   "cell_type": "code",
   "execution_count": 5,
   "id": "3cd16cb4",
   "metadata": {
    "execution": {
     "iopub.execute_input": "2024-06-19T12:05:31.310620Z",
     "iopub.status.busy": "2024-06-19T12:05:31.310225Z",
     "iopub.status.idle": "2024-06-19T12:05:31.344419Z",
     "shell.execute_reply": "2024-06-19T12:05:31.343123Z"
    },
    "papermill": {
     "duration": 0.045021,
     "end_time": "2024-06-19T12:05:31.347134",
     "exception": false,
     "start_time": "2024-06-19T12:05:31.302113",
     "status": "completed"
    },
    "tags": []
   },
   "outputs": [
    {
     "name": "stdout",
     "output_type": "stream",
     "text": [
      "features.shape: (378428, 11), test_features.shape: (252286, 11)\n",
      "features.columns: ['Item_Identifier' 'Item_Weight' 'Item_Fat_Content' 'Item_Visibility'\n",
      " 'Item_Type' 'Item_MRP' 'Outlet_Identifier' 'Outlet_Establishment_Year'\n",
      " 'Outlet_Size' 'Outlet_Location_Type' 'Outlet_Type']\n"
     ]
    }
   ],
   "source": [
    "drop_cols = []\n",
    "\n",
    "features = train_df.drop(columns=['id', 'Item_Outlet_Sales'] + drop_cols)\n",
    "target = train_df['Item_Outlet_Sales']\n",
    "test_features = test_df.drop(columns=['id'] + drop_cols)\n",
    "\n",
    "print(f\"features.shape: {features.shape}, test_features.shape: {test_features.shape}\")\n",
    "print(f\"features.columns: {features.columns.values}\")"
   ]
  },
  {
   "cell_type": "code",
   "execution_count": 6,
   "id": "ba3825d1",
   "metadata": {
    "execution": {
     "iopub.execute_input": "2024-06-19T12:05:31.362180Z",
     "iopub.status.busy": "2024-06-19T12:05:31.361700Z",
     "iopub.status.idle": "2024-06-19T12:14:30.884649Z",
     "shell.execute_reply": "2024-06-19T12:14:30.882988Z"
    },
    "papermill": {
     "duration": 539.542944,
     "end_time": "2024-06-19T12:14:30.896407",
     "exception": false,
     "start_time": "2024-06-19T12:05:31.353463",
     "status": "completed"
    },
    "tags": []
   },
   "outputs": [
    {
     "name": "stdout",
     "output_type": "stream",
     "text": [
      "Fold 1/5\n",
      "Training until validation scores don't improve for 200 rounds\n",
      "Early stopping, best iteration is:\n",
      "[2196]\tvalid_0's rmse: 0.703793\tvalid_0's l2: 0.495325\n",
      "LGBM RMSLE: 0.7037931148293433\n",
      "Fold 2/5\n",
      "Training until validation scores don't improve for 200 rounds\n",
      "Early stopping, best iteration is:\n",
      "[2166]\tvalid_0's rmse: 0.708253\tvalid_0's l2: 0.501623\n",
      "LGBM RMSLE: 0.7082531812546207\n",
      "Fold 3/5\n",
      "Training until validation scores don't improve for 200 rounds\n",
      "Early stopping, best iteration is:\n",
      "[2179]\tvalid_0's rmse: 0.709045\tvalid_0's l2: 0.502745\n",
      "LGBM RMSLE: 0.709045286206613\n",
      "Fold 4/5\n",
      "Training until validation scores don't improve for 200 rounds\n",
      "Early stopping, best iteration is:\n",
      "[2065]\tvalid_0's rmse: 0.711159\tvalid_0's l2: 0.505747\n",
      "LGBM RMSLE: 0.7111587729050091\n",
      "Fold 5/5\n",
      "Training until validation scores don't improve for 200 rounds\n",
      "Early stopping, best iteration is:\n",
      "[2203]\tvalid_0's rmse: 0.703039\tvalid_0's l2: 0.494263\n",
      "LGBM RMSLE: 0.7030387618845727\n",
      "Average RMSLE: 0.7070578234160317, Std of RMSLE: 0.0031307460186676198\n"
     ]
    }
   ],
   "source": [
    "kf = KFold(n_splits=5, shuffle=True, random_state=0)\n",
    "fold_scores = []\n",
    "test_predictions = np.zeros(test_features.shape[0])\n",
    "feature_importance_values = np.zeros(features.shape[1])\n",
    "\n",
    "for fold_i, (train_index, val_index) in enumerate(kf.split(features, target)):\n",
    "    print(f\"Fold {fold_i+1}/{kf.n_splits}\")\n",
    "    \n",
    "    X_train, X_val = features.iloc[train_index], features.iloc[val_index]\n",
    "    y_train, y_val = target.iloc[train_index], target.iloc[val_index]\n",
    "\n",
    "    y_train, y_val = np.log1p(y_train), np.log1p(y_val)\n",
    "\n",
    "    # Training the LightGBM regressor\n",
    "    model = LGBMRegressor(\n",
    "        max_depth=16,\n",
    "        n_estimators=3000,\n",
    "        learning_rate=0.05,\n",
    "        random_state=0,\n",
    "        verbose=-1\n",
    "    )\n",
    "    model.fit(X_train, y_train,\n",
    "        eval_metric=\"rmse\",\n",
    "        eval_set=[(X_val, y_val)],\n",
    "        callbacks=[lgb.early_stopping(200)]\n",
    "    )\n",
    "\n",
    "    # Update feature importance\n",
    "    feature_importance_values += model.feature_importances_ / kf.n_splits\n",
    "\n",
    "    # Predicting and calculating score on the validation set\n",
    "    y_pred = model.predict(X_val, num_iteration=model._best_iteration)\n",
    "    y_pred = np.expm1(y_pred)\n",
    "    y_pred = np.clip(y_pred, 0, None)\n",
    "    score = root_mean_squared_log_error(np.expm1(y_val), y_pred)\n",
    "    fold_scores.append(score)\n",
    "    print(f\"LGBM RMSLE: {score}\")\n",
    "\n",
    "    # Making predictions on the test set\n",
    "    p = model.predict(test_features, num_iteration=model._best_iteration)\n",
    "    p = np.expm1(p)\n",
    "    p = np.clip(p, 0, None)\n",
    "    test_predictions += p\n",
    "\n",
    "# Averaging predictions over all folds\n",
    "test_predictions /= kf.n_splits\n",
    "\n",
    "# Print average and std scores\n",
    "average_score = np.mean(fold_scores)\n",
    "std_score = np.std(fold_scores)\n",
    "print(f\"Average RMSLE: {average_score}, Std of RMSLE: {std_score}\")"
   ]
  },
  {
   "cell_type": "code",
   "execution_count": 7,
   "id": "6f04b848",
   "metadata": {
    "execution": {
     "iopub.execute_input": "2024-06-19T12:14:30.918520Z",
     "iopub.status.busy": "2024-06-19T12:14:30.917473Z",
     "iopub.status.idle": "2024-06-19T12:14:30.935070Z",
     "shell.execute_reply": "2024-06-19T12:14:30.933923Z"
    },
    "papermill": {
     "duration": 0.033051,
     "end_time": "2024-06-19T12:14:30.938197",
     "exception": false,
     "start_time": "2024-06-19T12:14:30.905146",
     "status": "completed"
    },
    "tags": []
   },
   "outputs": [
    {
     "name": "stdout",
     "output_type": "stream",
     "text": [
      "Top 20 Important Features:\n",
      "                      feature  importance\n",
      "5                    Item_MRP     14865.4\n",
      "3             Item_Visibility     12764.4\n",
      "1                 Item_Weight     11741.6\n",
      "0             Item_Identifier     11251.0\n",
      "4                   Item_Type      4665.0\n",
      "6           Outlet_Identifier      3638.4\n",
      "7   Outlet_Establishment_Year      2598.8\n",
      "2            Item_Fat_Content      1417.6\n",
      "10                Outlet_Type       672.6\n",
      "8                 Outlet_Size       670.4\n",
      "9        Outlet_Location_Type       568.8\n"
     ]
    }
   ],
   "source": [
    "# Identify top K important features\n",
    "feature_importances = pd.DataFrame({\n",
    "    'feature': features.columns,\n",
    "    'importance': feature_importance_values\n",
    "}).sort_values(by='importance', ascending=False).head(20)\n",
    "\n",
    "print(\"Top 20 Important Features:\")\n",
    "print(feature_importances)"
   ]
  },
  {
   "cell_type": "code",
   "execution_count": 8,
   "id": "3d3dffab",
   "metadata": {
    "execution": {
     "iopub.execute_input": "2024-06-19T12:14:30.958842Z",
     "iopub.status.busy": "2024-06-19T12:14:30.958409Z",
     "iopub.status.idle": "2024-06-19T12:14:31.784554Z",
     "shell.execute_reply": "2024-06-19T12:14:31.783425Z"
    },
    "papermill": {
     "duration": 0.840255,
     "end_time": "2024-06-19T12:14:31.787338",
     "exception": false,
     "start_time": "2024-06-19T12:14:30.947083",
     "status": "completed"
    },
    "tags": []
   },
   "outputs": [
    {
     "name": "stdout",
     "output_type": "stream",
     "text": [
      "       id  Item_Outlet_Sales\n",
      "0  378428        3031.709323\n",
      "1  378429        2515.805016\n",
      "2  378430        2116.692981\n",
      "3  378431        1634.179334\n",
      "4  378432        1404.451532\n",
      "5  378433        2256.373321\n",
      "6  378434        2557.690224\n",
      "7  378435        2383.620247\n",
      "8  378436        1604.576005\n",
      "9  378437        2026.743839\n",
      "Submission file saved successfully.\n"
     ]
    }
   ],
   "source": [
    "# Preparing the submission file with averaged predictions\n",
    "submission = pd.DataFrame({\n",
    "    'id': test_df['id'],\n",
    "    'Item_Outlet_Sales': test_predictions\n",
    "})\n",
    "\n",
    "# Save the submission file\n",
    "submission_file_path = 'submission.csv'\n",
    "submission.to_csv(submission_file_path, index=False)\n",
    "print(submission.head(10))\n",
    "\n",
    "print(\"Submission file saved successfully.\")"
   ]
  }
 ],
 "metadata": {
  "kaggle": {
   "accelerator": "none",
   "dataSources": [
    {
     "databundleVersionId": 8765512,
     "sourceId": 77807,
     "sourceType": "competition"
    }
   ],
   "dockerImageVersionId": 30732,
   "isGpuEnabled": false,
   "isInternetEnabled": true,
   "language": "python",
   "sourceType": "notebook"
  },
  "kernelspec": {
   "display_name": "Python 3",
   "language": "python",
   "name": "python3"
  },
  "language_info": {
   "codemirror_mode": {
    "name": "ipython",
    "version": 3
   },
   "file_extension": ".py",
   "mimetype": "text/x-python",
   "name": "python",
   "nbconvert_exporter": "python",
   "pygments_lexer": "ipython3",
   "version": "3.10.13"
  },
  "papermill": {
   "default_parameters": {},
   "duration": 581.378711,
   "end_time": "2024-06-19T12:14:32.523033",
   "environment_variables": {},
   "exception": null,
   "input_path": "__notebook__.ipynb",
   "output_path": "__notebook__.ipynb",
   "parameters": {},
   "start_time": "2024-06-19T12:04:51.144322",
   "version": "2.5.0"
  }
 },
 "nbformat": 4,
 "nbformat_minor": 5
}
